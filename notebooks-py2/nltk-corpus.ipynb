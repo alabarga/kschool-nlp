{
 "cells": [
  {
   "cell_type": "markdown",
   "metadata": {},
   "source": [
    "# Resumen NLTK: Acceso a corpus de texto y recursos léxicos\n",
    "\n",
    "Este resumen se corresponde con el capítulo 2 del NLTK Book [Accessing Text Corpora and Lexical Resources](http://www.nltk.org/book/ch02.html). La lectura del capítulo es muy recomendable."
   ]
  },
  {
   "cell_type": "markdown",
   "metadata": {},
   "source": [
    "## Corpus no anotados: el Proyecto Gutenberg\n",
    "\n",
    "NLTK no da acceso directo a varias colecciones de textos. Para empezar, vamos a juguetear un poco con los libros del [Proyecto Gutenberg](http://www.gutenberg.org), un repositorio público de libros libres y/o sin derechos de copyright en vigor.\n",
    "Antes de nada, necesitamos importar el módulo `gutenberg` que está en la librería `nltk.corpus`."
   ]
  },
  {
   "cell_type": "code",
   "execution_count": 1,
   "metadata": {
    "collapsed": true
   },
   "outputs": [],
   "source": [
    "from __future__ import print_function\n",
    "from __future__ import division\n",
    "\n",
    "from nltk.corpus import gutenberg"
   ]
  },
  {
   "cell_type": "markdown",
   "metadata": {},
   "source": [
    "Podemos listar el catálogo de libros del Proyecto Gutenberg disponibles desde NLTK a través del método `nltk.corpus.gutenberg.fileids`"
   ]
  },
  {
   "cell_type": "code",
   "execution_count": 2,
   "metadata": {
    "collapsed": false
   },
   "outputs": [
    {
     "name": "stdout",
     "output_type": "stream",
     "text": [
      "[u'austen-emma.txt', u'austen-persuasion.txt', u'austen-sense.txt', u'bible-kjv.txt', u'blake-poems.txt', u'bryant-stories.txt', u'burgess-busterbrown.txt', u'carroll-alice.txt', u'chesterton-ball.txt', u'chesterton-brown.txt', u'chesterton-thursday.txt', u'edgeworth-parents.txt', u'melville-moby_dick.txt', u'milton-paradise.txt', u'shakespeare-caesar.txt', u'shakespeare-hamlet.txt', u'shakespeare-macbeth.txt', u'whitman-leaves.txt']\n"
     ]
    }
   ],
   "source": [
    "print(gutenberg.fileids())"
   ]
  },
  {
   "cell_type": "markdown",
   "metadata": {},
   "source": [
    "Para cargar alguno de estos libros en variables y poder manipularlos directamente, podemos utilizar varios métodos.\n",
    "\n",
    "- `gutenberg.raw` recupera el texto como una única cadena de caracteres.\n",
    "- `gutenberg.words` recupera el texto tokenizado en palabras. El método devuelve una lista palabras.\n",
    "- `gutenberg.sents` recupera el texto segmentado por oraciones. El método devuelve una lista de oraciones. Cada oración es a su vez una lista de palabras.\n",
    "- `gutenberg.paras` recupera el texto  segmentado por párrafos. El método devuelve una lista de párrafos.  Cada párrafo es una lista de oraciones, cada oración es a su vez una lista de palabras."
   ]
  },
  {
   "cell_type": "code",
   "execution_count": 3,
   "metadata": {
    "collapsed": false
   },
   "outputs": [
    {
     "name": "stdout",
     "output_type": "stream",
     "text": [
      "[Alice's Adventures in Wonderland by Lewis Carroll 1865]\n",
      "\n",
      "CHAPTER I. Down the Rabbit-Hole\n",
      "\n",
      "Alice was beginning to get very tired of sitting by her sister on the\n",
      "bank, and of having nothing to do: once\n",
      "[The King James Bible]\n",
      "\n",
      "The Old Testament of the King James Bible\n",
      "\n",
      "The First Book of Moses:  Called Genesis\n",
      "\n",
      "\n",
      "1:1 In the beginning God created the heaven and the earth.\n",
      "\n",
      "1:2 And the earth was without \n"
     ]
    }
   ],
   "source": [
    "# cargo la vesión 'cruda' de un par de libros. Como son libros del Proyecto Gutenberg, se trata de ficheros en texto plano\n",
    "alice = gutenberg.raw('carroll-alice.txt')\n",
    "print(alice[:200]) # imprimo los primeros 200 caracteres del libro de Alicia\n",
    "\n",
    "bible = gutenberg.raw('bible-kjv.txt')\n",
    "print(bible[:200]) # imprimo los primeros 200 caracteres de la Biblia"
   ]
  },
  {
   "cell_type": "code",
   "execution_count": 4,
   "metadata": {
    "collapsed": false
   },
   "outputs": [
    {
     "name": "stdout",
     "output_type": "stream",
     "text": [
      "821133 1010654\n",
      "[u'[The', u'King', u'James', u'Bible]', u'The', u'Old', u'Testament', u'of', u'the', u'King', u'James', u'Bible', u'The', u'First', u'Book', u'of', u'Moses:', u'Called', u'Genesis', u'1:1', u'In', u'the', u'beginning', u'God', u'created', u'the', u'heaven', u'and', u'the', u'earth.', u'1:2', u'And', u'the', u'earth', u'was', u'without', u'form,', u'and', u'void;', u'and', u'darkness', u'was', u'upon', u'the', u'face', u'of', u'the', u'deep.', u'And', u'the', u'Spirit', u'of', u'God', u'moved', u'upon', u'the', u'face', u'of', u'the', u'waters.', u'1:3', u'And', u'God', u'said,', u'Let', u'there', u'be', u'light:', u'and', u'there', u'was', u'light.', u'1:4', u'And', u'God', u'saw', u'the', u'light,', u'that', u'it', u'was', u'good:', u'and', u'God', u'divided', u'the', u'light', u'from', u'the', u'darkness.', u'1:5', u'And', u'God', u'called', u'the', u'light', u'Day,', u'and', u'the', u'darkness']\n",
      "\n",
      " --------------------------------------------------------------------------- \n",
      "\n",
      "[u'[', u'The', u'King', u'James', u'Bible', u']', u'The', u'Old', u'Testament', u'of', u'the', u'King', u'James', u'Bible', u'The', u'First', u'Book', u'of', u'Moses', u':', u'Called', u'Genesis', u'1', u':', u'1', u'In', u'the', u'beginning', u'God', u'created', u'the', u'heaven', u'and', u'the', u'earth', u'.', u'1', u':', u'2', u'And', u'the', u'earth', u'was', u'without', u'form', u',', u'and', u'void', u';', u'and', u'darkness', u'was', u'upon', u'the', u'face', u'of', u'the', u'deep', u'.', u'And', u'the', u'Spirit', u'of', u'God', u'moved', u'upon', u'the', u'face', u'of', u'the', u'waters', u'.', u'1', u':', u'3', u'And', u'God', u'said', u',', u'Let', u'there', u'be', u'light', u':', u'and', u'there', u'was', u'light', u'.', u'1', u':', u'4', u'And', u'God', u'saw', u'the', u'light', u',', u'that', u'it']\n"
     ]
    }
   ],
   "source": [
    "# segmentamos el texto en palabras teniendo en cuenta los espacios \n",
    "bible_tokens = bible.split()\n",
    "# cargamos la versión de la Biblia segmentado en palabras\n",
    "bible_words = gutenberg.words('bible-kjv.txt')\n",
    "\n",
    "# no da el mismo número de tokens\n",
    "print(len(bible_tokens), len(bible_words))\n",
    "\n",
    "print(bible_tokens[:100])\n",
    "print('\\n', '-' * 75, '\\n')\n",
    "print(bible_words[:100])"
   ]
  },
  {
   "cell_type": "code",
   "execution_count": 5,
   "metadata": {
    "collapsed": false
   },
   "outputs": [
    {
     "name": "stdout",
     "output_type": "stream",
     "text": [
      "[u'[', u'Alice', u\"'\", u's', u'Adventures', u'in', u'Wonderland', u'by', u'Lewis', u'Carroll', u'1865', u']', u'CHAPTER', u'I', u'.', u'Down', u'the', u'Rabbit', u'-', u'Hole']\n",
      "34110\n"
     ]
    }
   ],
   "source": [
    "# cargo la versión de Alicia segmentada en palabras\n",
    "alice_words = gutenberg.words('carroll-alice.txt')\n",
    "print(alice_words[:20]) # imprimo las primeros 20 palabras\n",
    "print(len(alice_words))"
   ]
  },
  {
   "cell_type": "code",
   "execution_count": 6,
   "metadata": {
    "collapsed": false
   },
   "outputs": [
    {
     "name": "stdout",
     "output_type": "stream",
     "text": [
      "Alice tiene 1703 oraciones\n",
      "[[u'Down', u'the', u'Rabbit', u'-', u'Hole'], [u'Alice', u'was', u'beginning', u'to', u'get', u'very', u'tired', u'of', u'sitting', u'by', u'her', u'sister', u'on', u'the', u'bank', u',', u'and', u'of', u'having', u'nothing', u'to', u'do', u':', u'once', u'or', u'twice', u'she', u'had', u'peeped', u'into', u'the', u'book', u'her', u'sister', u'was', u'reading', u',', u'but', u'it', u'had', u'no', u'pictures', u'or', u'conversations', u'in', u'it', u',', u\"'\", u'and', u'what', u'is', u'the', u'use', u'of', u'a', u'book', u\",'\", u'thought', u'Alice', u\"'\", u'without', u'pictures', u'or', u'conversation', u\"?'\"], [u'So', u'she', u'was', u'considering', u'in', u'her', u'own', u'mind', u'(', u'as', u'well', u'as', u'she', u'could', u',', u'for', u'the', u'hot', u'day', u'made', u'her', u'feel', u'very', u'sleepy', u'and', u'stupid', u'),', u'whether', u'the', u'pleasure', u'of', u'making', u'a', u'daisy', u'-', u'chain', u'would', u'be', u'worth', u'the', u'trouble', u'of', u'getting', u'up', u'and', u'picking', u'the', u'daisies', u',', u'when', u'suddenly', u'a', u'White', u'Rabbit', u'with', u'pink', u'eyes', u'ran', u'close', u'by', u'her', u'.']]\n"
     ]
    }
   ],
   "source": [
    "# cargo la versión de Alicia segmentada en oraciones\n",
    "alice_sents = gutenberg.sents('carroll-alice.txt')\n",
    "print('Alice tiene', len(alice_sents), 'oraciones')\n",
    "print(alice_sents[2:5]) # imprimo la tercera, cuarta y quinta oración"
   ]
  },
  {
   "cell_type": "code",
   "execution_count": 7,
   "metadata": {
    "collapsed": false
   },
   "outputs": [
    {
     "name": "stdout",
     "output_type": "stream",
     "text": [
      "Alice tiene 817 párrafos\n",
      "[[u'[', u'Alice', u\"'\", u's', u'Adventures', u'in', u'Wonderland', u'by', u'Lewis', u'Carroll', u'1865', u']']]\n",
      "\n",
      " --------------------------------------------------------------------------- \n",
      "\n",
      "[[u'CHAPTER', u'I', u'.'], [u'Down', u'the', u'Rabbit', u'-', u'Hole']]\n",
      "\n",
      " --------------------------------------------------------------------------- \n",
      "\n",
      "[[u'Alice', u'was', u'beginning', u'to', u'get', u'very', u'tired', u'of', u'sitting', u'by', u'her', u'sister', u'on', u'the', u'bank', u',', u'and', u'of', u'having', u'nothing', u'to', u'do', u':', u'once', u'or', u'twice', u'she', u'had', u'peeped', u'into', u'the', u'book', u'her', u'sister', u'was', u'reading', u',', u'but', u'it', u'had', u'no', u'pictures', u'or', u'conversations', u'in', u'it', u',', u\"'\", u'and', u'what', u'is', u'the', u'use', u'of', u'a', u'book', u\",'\", u'thought', u'Alice', u\"'\", u'without', u'pictures', u'or', u'conversation', u\"?'\"]]\n",
      "\n",
      " --------------------------------------------------------------------------- \n",
      "\n",
      "[[u'So', u'she', u'was', u'considering', u'in', u'her', u'own', u'mind', u'(', u'as', u'well', u'as', u'she', u'could', u',', u'for', u'the', u'hot', u'day', u'made', u'her', u'feel', u'very', u'sleepy', u'and', u'stupid', u'),', u'whether', u'the', u'pleasure', u'of', u'making', u'a', u'daisy', u'-', u'chain', u'would', u'be', u'worth', u'the', u'trouble', u'of', u'getting', u'up', u'and', u'picking', u'the', u'daisies', u',', u'when', u'suddenly', u'a', u'White', u'Rabbit', u'with', u'pink', u'eyes', u'ran', u'close', u'by', u'her', u'.']]\n",
      "\n",
      " --------------------------------------------------------------------------- \n",
      "\n",
      "[[u'There', u'was', u'nothing', u'so', u'VERY', u'remarkable', u'in', u'that', u';', u'nor', u'did', u'Alice', u'think', u'it', u'so', u'VERY', u'much', u'out', u'of', u'the', u'way', u'to', u'hear', u'the', u'Rabbit', u'say', u'to', u'itself', u',', u\"'\", u'Oh', u'dear', u'!'], [u'Oh', u'dear', u'!'], [u'I', u'shall', u'be', u'late', u\"!'\"], [u'(', u'when', u'she', u'thought', u'it', u'over', u'afterwards', u',', u'it', u'occurred', u'to', u'her', u'that', u'she', u'ought', u'to', u'have', u'wondered', u'at', u'this', u',', u'but', u'at', u'the', u'time', u'it', u'all', u'seemed', u'quite', u'natural', u');', u'but', u'when', u'the', u'Rabbit', u'actually', u'TOOK', u'A', u'WATCH', u'OUT', u'OF', u'ITS', u'WAISTCOAT', u'-', u'POCKET', u',', u'and', u'looked', u'at', u'it', u',', u'and', u'then', u'hurried', u'on', u',', u'Alice', u'started', u'to', u'her', u'feet', u',', u'for', u'it', u'flashed', u'across', u'her', u'mind', u'that', u'she', u'had', u'never', u'before', u'seen', u'a', u'rabbit', u'with', u'either', u'a', u'waistcoat', u'-', u'pocket', u',', u'or', u'a', u'watch', u'to', u'take', u'out', u'of', u'it', u',', u'and', u'burning', u'with', u'curiosity', u',', u'she', u'ran', u'across', u'the', u'field', u'after', u'it', u',', u'and', u'fortunately', u'was', u'just', u'in', u'time', u'to', u'see', u'it', u'pop', u'down', u'a', u'large', u'rabbit', u'-', u'hole', u'under', u'the', u'hedge', u'.']]\n",
      "\n",
      " --------------------------------------------------------------------------- \n",
      "\n"
     ]
    }
   ],
   "source": [
    "# cargo la versión de Alicia segmentada en párrafos\n",
    "alice_paras = gutenberg.paras('carroll-alice.txt')\n",
    "print('Alice tiene', len(alice_paras), 'párrafos')\n",
    "\n",
    "# imprimo los cinco primeros\n",
    "for para in alice_paras[:5]:\n",
    "    print(para)\n",
    "    print('\\n', '-' * 75, '\\n')"
   ]
  },
  {
   "cell_type": "markdown",
   "metadata": {},
   "source": [
    "Fíjate en que cada método devuelve una estructura de datos diferente: desde una única cadena a listas de listas anidadas. Para que tengas claro las dimensiones de cada uno, podemos imprimir el número de caracteres, palabras, oraciones y párrafos del libro. "
   ]
  },
  {
   "cell_type": "code",
   "execution_count": 8,
   "metadata": {
    "collapsed": false
   },
   "outputs": [
    {
     "name": "stdout",
     "output_type": "stream",
     "text": [
      "144395 caracteres\n",
      "34110 palabras\n",
      "1703 oraciones\n",
      "817 párrafos\n"
     ]
    }
   ],
   "source": [
    "print(len(alice), 'caracteres') \n",
    "print(len(alice_words), 'palabras')\n",
    "print(len(alice_sents), 'oraciones')\n",
    "print(len(alice_paras), 'párrafos')"
   ]
  },
  {
   "cell_type": "markdown",
   "metadata": {},
   "source": [
    "Vamos a imprimir algunas estadísticas para todos los libros del Proyecto Gutenberg disponibles. Para cada libro, impriremos por pantalla el promedio de caracteres por palabra, el promedio de palabras por oración y el promedio de oraciones por párrafo."
   ]
  },
  {
   "cell_type": "code",
   "execution_count": 9,
   "metadata": {
    "collapsed": false
   },
   "outputs": [
    {
     "name": "stdout",
     "output_type": "stream",
     "text": [
      "austen-emma \t 4.61 \t 24.82 \t 3.27\n",
      "austen-persuasion \t 4.75 \t 26.2 \t 3.63\n",
      "austen-sense \t 4.75 \t 28.32 \t 2.68\n",
      "bible-kjv \t 4.29 \t 33.57 \t 1.22\n",
      "blake-poems \t 4.57 \t 19.07 \t 1.54\n",
      "bryant-stories \t 4.49 \t 19.41 \t 2.4\n",
      "burgess-busterbrown \t 4.46 \t 17.99 \t 3.96\n",
      "carroll-alice \t 4.23 \t 20.03 \t 2.08\n",
      "chesterton-ball \t 4.72 \t 20.3 \t 2.98\n",
      "chesterton-brown \t 4.72 \t 22.61 \t 3.28\n",
      "chesterton-thursday \t 4.63 \t 18.5 \t 2.91\n",
      "edgeworth-parents \t 4.44 \t 20.59 \t 2.75\n",
      "melville-moby_dick \t 4.77 \t 25.93 \t 3.6\n",
      "milton-paradise \t 4.84 \t 52.31 \t 63.83\n",
      "shakespeare-caesar \t 4.35 \t 11.94 \t 2.91\n",
      "shakespeare-hamlet \t 4.36 \t 12.03 \t 3.27\n",
      "shakespeare-macbeth \t 4.34 \t 12.13 \t 2.81\n",
      "whitman-leaves \t 4.59 \t 36.44 \t 1.72\n"
     ]
    }
   ],
   "source": [
    "# para cada libro que está disponible en el objeto gutenberg\n",
    "for libro in gutenberg.fileids():\n",
    "    caracteres = len(gutenberg.raw(libro))\n",
    "    palabras = len(gutenberg.words(libro))\n",
    "    oraciones = len(gutenberg.sents(libro))\n",
    "    parrafos = len(gutenberg.paras(libro))\n",
    "    print(libro[:-4], '\\t', round(caracteres/palabras, 2), '\\t', round(palabras/oraciones, 2), '\\t', round(oraciones/parrafos, 2))"
   ]
  },
  {
   "cell_type": "markdown",
   "metadata": {},
   "source": [
    "El módulo `nltk.corpus` permite acceder a otras colecciones de textos en otras lenguas ([lista completa aquí](http://www.nltk.org/book/ch02.html#tab-corpora)). Vamos a probar con un corpus de noticias en castellano llamado `cess_esp` que incluye anotación morfo-sintáctica."
   ]
  },
  {
   "cell_type": "code",
   "execution_count": 10,
   "metadata": {
    "collapsed": false
   },
   "outputs": [
    {
     "name": "stdout",
     "output_type": "stream",
     "text": [
      "[u'El', u'grupo', u'estatal', u'Electricit\\xe9_de_France', u'-Fpa-', u'EDF', u'-Fpt-', u'anunci\\xf3', u'hoy', u',', u'jueves', u',', u'la', u'compra', u'del', u'51_por_ciento', u'de', u'la', u'empresa', u'mexicana', u'Electricidad_\\xc1guila_de_Altamira', u'-Fpa-', u'EAA', u'-Fpt-', u',', u'creada', u'por', u'el', u'japon\\xe9s', u'Mitsubishi_Corporation', u'para', u'poner_en_marcha', u'una', u'central', u'de', u'gas', u'de', u'495', u'megavatios', u'.', u'Una', u'portavoz', u'de', u'EDF', u'explic\\xf3', u'a', u'EFE', u'que', u'el', u'proyecto']\n",
      "\n",
      " --------------------------------------------------------------------------- \n",
      "\n",
      "[[u'El', u'grupo', u'estatal', u'Electricit\\xe9_de_France', u'-Fpa-', u'EDF', u'-Fpt-', u'anunci\\xf3', u'hoy', u',', u'jueves', u',', u'la', u'compra', u'del', u'51_por_ciento', u'de', u'la', u'empresa', u'mexicana', u'Electricidad_\\xc1guila_de_Altamira', u'-Fpa-', u'EAA', u'-Fpt-', u',', u'creada', u'por', u'el', u'japon\\xe9s', u'Mitsubishi_Corporation', u'para', u'poner_en_marcha', u'una', u'central', u'de', u'gas', u'de', u'495', u'megavatios', u'.'], [u'Una', u'portavoz', u'de', u'EDF', u'explic\\xf3', u'a', u'EFE', u'que', u'el', u'proyecto', u'para', u'la', u'construcci\\xf3n', u'de', u'Altamira_2', u',', u'al', u'norte', u'de', u'Tampico', u',', u'prev\\xe9', u'la', u'utilizaci\\xf3n', u'de', u'gas', u'natural', u'como', u'combustible', u'principal', u'en', u'una', u'central', u'de', u'ciclo', u'combinado', u'que', u'debe', u'empezar', u'a', u'funcionar', u'en', u'mayo_del_2002', u'.'], [u'La', u'electricidad', u'producida', u'pasar\\xe1', u'a', u'la', u'red', u'el\\xe9ctrica', u'p\\xfablica', u'de', u'M\\xe9xico', u'en_virtud_de', u'un', u'acuerdo', u'de', u'venta', u'de', u'energ\\xeda', u'de', u'EAA', u'con', u'la', u'Comisi\\xf3n_Federal_de_Electricidad', u'-Fpa-', u'CFE', u'-Fpt-', u'por', u'una', u'duraci\\xf3n', u'de', u'25', u'a\\xf1os', u'.'], [u'EDF', u',', u'que', u'no', u'quiso', u'revelar', u'cu\\xe1nto', u'*0*', u'pag\\xf3', u'por', u'su', u'participaci\\xf3n', u'mayoritaria', u'en', u'EAA', u',', u'intervendr\\xe1', u'como', u'asistente', u'en', u'la', u'construcci\\xf3n', u'de', u'Altamira_2', u'y', u',', u'posteriormente', u',', u'*0*', u'se', u'encargar\\xe1', u'de', u'explotarla', u'como', u'principal', u'accionista', u'.'], [u'EDF', u'y', u'Mitsubishi', u'participaron', u'en', u'1998', u'en', u'la', u'licitaci\\xf3n', u'de', u'licencias', u'para', u'construir', u'centrales', u'el\\xe9ctricas', u'en', u'M\\xe9xico', u'y', u'*0*', u'se', u'quedaron', u'con', u'dos', u'cada', u'una', u':', u'R\\xedo_Bravo', u'y', u'Saltillo', u'para', u'la', u'compa\\xf1\\xeda', u'francesa', u'y', u'Altamira', u'y', u'Tuxp\\xe1n', u'para', u'la', u'japonesa', u'.']]\n"
     ]
    }
   ],
   "source": [
    "from nltk.corpus import cess_esp\n",
    "\n",
    "# la versión en crudo de este corpus contiene información morfosintáctica con un formato que todavía no conocemos.\n",
    "# en este caso, pasamos directamente a trabajar con los textos segmentados\n",
    "\n",
    "# cargo el primer documento del corpus segmentado en palabras\n",
    "palabras = cess_esp.words(cess_esp.fileids()[0])\n",
    "print(palabras[:50])\n",
    "\n",
    "print('\\n', '-' * 75, '\\n')\n",
    "\n",
    "# y segmentado en oraciones\n",
    "oraciones = cess_esp.sents(cess_esp.fileids()[0])\n",
    "print(oraciones[:5])"
   ]
  },
  {
   "cell_type": "code",
   "execution_count": 11,
   "metadata": {
    "collapsed": false
   },
   "outputs": [
    {
     "name": "stdout",
     "output_type": "stream",
     "text": [
      "El grupo estatal Electricité_de_France -Fpa- EDF -Fpt- anunció hoy , jueves , la compra del 51_por_ciento de la empresa mexicana Electricidad_Águila_de_Altamira -Fpa- EAA -Fpt- , creada por el japonés Mitsubishi_Corporation para poner_en_marcha una central de gas de 495 megavatios . Una portavoz de EDF explicó a EFE que el proyecto para la construcción de Altamira_2 , al norte de Tampico , prevé la utilización de gas natural como combustible principal en una central de ciclo combinado que debe empezar a funcionar en mayo_del_2002 . La electricidad producida pasará a la red eléctrica pública de México en_virtud_de un acuerdo de venta\n"
     ]
    }
   ],
   "source": [
    "print(\" \".join(palabras[:100]))"
   ]
  },
  {
   "cell_type": "markdown",
   "metadata": {},
   "source": [
    "De manera similar a como hemos hecho sacando estadísticias de las obras disponibles en el corpus `gutenberg`, vamos a calcular la longitud promedio de palabras y el número de palabras promedio por oración, para los diez primeros documentos de este corpus `cess_esp`. \n",
    "\n",
    "Fíjate en la estructura de este ejemplo: contiene bucles anidados."
   ]
  },
  {
   "cell_type": "code",
   "execution_count": 12,
   "metadata": {
    "collapsed": false
   },
   "outputs": [
    {
     "name": "stdout",
     "output_type": "stream",
     "text": [
      "10017_20000413 \t 5.04 \t 42.17\n",
      "10044_20000313 \t 4.27 \t 47.63\n",
      "10049_20001114 \t 5.84 \t 31.11\n",
      "10055_20000713 \t 4.98 \t 30.89\n",
      "10080_20000914 \t 4.6 \t 34.0\n",
      "10084_20000313_1 \t 4.54 \t 42.36\n",
      "10084_20000313_2 \t 4.71 \t 24.0\n",
      "10127_20001013_1 \t 4.63 \t 40.1\n",
      "10127_20001013_2 \t 4.71 \t 32.1\n",
      "10127_20001013_3 \t 4.72 \t 35.29\n"
     ]
    }
   ],
   "source": [
    "# para cada documento que está entre los 10 primeros del corpus\n",
    "for documento in cess_esp.fileids()[:10]:    \n",
    "    # carga el texto segmentado en palabras\n",
    "    palabras = cess_esp.words(documento)\n",
    "    # y en oraciones\n",
    "    oraciones = cess_esp.sents(documento)\n",
    "    \n",
    "    # pon el contador de caracteres a 0\n",
    "    caracteres = 0    \n",
    "    # para cada palabra dentro de la lista de palabras del documento\n",
    "    for palabra in palabras:\n",
    "        # ve sumando al contador el número de caracteres que tiene la palabra en cuestión\n",
    "        caracteres = caracteres + len(palabra)\n",
    "    \n",
    "    # cuando hayas terminado, divide la longitud total del texto entre el número de palabras\n",
    "    longitud_promedio = caracteres / len(palabras)\n",
    "    \n",
    "    # imprime el nombre del documento, la longitud de la palabra y el número de palabras por oración\n",
    "    print(documento[:-4], '\\t', round(longitud_promedio, 2), '\\t', round(len(palabras)/len(oraciones), 2))"
   ]
  },
  {
   "cell_type": "markdown",
   "metadata": {},
   "source": [
    "Los libros del Proyecto Gutenberg constituyen el tipo de corpus más sencillo: no está anotado (no incluye ningún tipo de información lingüística) ni categorizado. \n",
    "\n",
    "## Corpus categorizados y anotados: el Corpus de Brown\n",
    "\n",
    "El Corpus de Brown fue el primer gran corpus orientado a tareas de PLN. Desarrollado en la Universidad de Brown, contiene más de un millón de palabras provenientes de 500 fuentes.  La principal catacterística de este corpus es que sus textos están categorizados por género. "
   ]
  },
  {
   "cell_type": "code",
   "execution_count": 13,
   "metadata": {
    "collapsed": true
   },
   "outputs": [],
   "source": [
    "from nltk.corpus import brown"
   ]
  },
  {
   "cell_type": "markdown",
   "metadata": {},
   "source": [
    "Como en los libros del Proyecto Gutenberg, aquí también podemos imprimir los nombres de los ficheros. En este caso son poco significativos, nos nos dicen nada del contenido."
   ]
  },
  {
   "cell_type": "code",
   "execution_count": 14,
   "metadata": {
    "collapsed": false
   },
   "outputs": [
    {
     "name": "stdout",
     "output_type": "stream",
     "text": [
      "500\n",
      "[u'ca01', u'ca02', u'ca03', u'ca04', u'ca05', u'ca06', u'ca07', u'ca08', u'ca09', u'ca10']\n"
     ]
    }
   ],
   "source": [
    "# Brown está formado por 500 documentos\n",
    "print(len(brown.fileids()))\n",
    "# imprimimos solos los 10 primeros\n",
    "print(brown.fileids()[:10])"
   ]
  },
  {
   "cell_type": "markdown",
   "metadata": {},
   "source": [
    "### El corpus de Brown está categorizado por géneros\n",
    "\n",
    "Una de las principales diferencias con otros corpus vistos anteriormente es que el de Brown está categorizado: los textos están agrupados según su género o temática. Y en este caso, los nombres de las categorías sí nos permiten intuir el contenido de los textos."
   ]
  },
  {
   "cell_type": "code",
   "execution_count": 15,
   "metadata": {
    "collapsed": false
   },
   "outputs": [
    {
     "name": "stdout",
     "output_type": "stream",
     "text": [
      "[u'adventure', u'belles_lettres', u'editorial', u'fiction', u'government', u'hobbies', u'humor', u'learned', u'lore', u'mystery', u'news', u'religion', u'reviews', u'romance', u'science_fiction']\n"
     ]
    }
   ],
   "source": [
    "print(brown.categories())"
   ]
  },
  {
   "cell_type": "markdown",
   "metadata": {},
   "source": [
    "De manera similar a los libros del Proyecto Gutenberg, podemos acceder a los textos de este corpus a través de los métodos `brown.raw`, `brown.words`, `brown.sents` y `brown.paras`. Además, podemos acceder a una categoría de textos concretas si lo especificamos como argumento."
   ]
  },
  {
   "cell_type": "code",
   "execution_count": 16,
   "metadata": {
    "collapsed": true
   },
   "outputs": [],
   "source": [
    "news_words = brown.words(categories='news')\n",
    "scifi_sents = brown.sents(categories='science_fiction')"
   ]
  },
  {
   "cell_type": "code",
   "execution_count": 17,
   "metadata": {
    "collapsed": false
   },
   "outputs": [
    {
     "name": "stdout",
     "output_type": "stream",
     "text": [
      "[u'The', u'Fulton', u'County', u'Grand', u'Jury', u'said', u'Friday', u'an', u'investigation', u'of', u\"Atlanta's\", u'recent', u'primary', u'election', u'produced', u'``', u'no', u'evidence', u\"''\", u'that', u'any', u'irregularities', u'took', u'place', u'.', u'The', u'jury', u'further', u'said', u'in', u'term-end', u'presentments', u'that', u'the', u'City', u'Executive', u'Committee', u',', u'which', u'had', u'over-all', u'charge', u'of', u'the', u'election', u',', u'``', u'deserves', u'the', u'praise']\n",
      "\n",
      " --------------------------------------------------------------------------- \n",
      "\n",
      "[[u'Now', u'that', u'he', u'knew', u'himself', u'to', u'be', u'self', u'he', u'was', u'free', u'to', u'grok', u'ever', u'closer', u'to', u'his', u'brothers', u',', u'merge', u'without', u'let', u'.'], [u\"Self's\", u'integrity', u'was', u'and', u'is', u'and', u'ever', u'had', u'been', u'.'], [u'Mike', u'stopped', u'to', u'cherish', u'all', u'his', u'brother', u'selves', u',', u'the', u'many', u'threes-fulfilled', u'on', u'Mars', u',', u'corporate', u'and', u'discorporate', u',', u'the', u'precious', u'few', u'on', u'Earth', u'--', u'the', u'unknown', u'powers', u'of', u'three', u'on', u'Earth', u'that', u'would', u'be', u'his', u'to', u'merge', u'with', u'and', u'cherish', u'now', u'that', u'at', u'last', u'long', u'waiting', u'he', u'grokked', u'and', u'cherished', u'himself', u'.']]\n"
     ]
    }
   ],
   "source": [
    "print(news_words[:50])\n",
    "print('\\n', '-' * 75, '\\n')\n",
    "print(scifi_sents[:3])"
   ]
  },
  {
   "cell_type": "markdown",
   "metadata": {},
   "source": [
    "Vamos a sacar provecho de la categorización de los textos de este corpus. Para ello, vamos a calcular la frecuencia de distribución de distintos verbos modales para cada categoría. Para ello vamos a calcular una distribución de frecuencia condicional que calcule la frecuencia de cada palabra para cada categoría.\n",
    "\n",
    "No te preocupes si no entiendes la sintaxis para crear tablas de frecuencias condicionales a través del objeto `ConditionalFreqDist`. Créeme, ese objeto calcula frecuencias de palabras atendiendo a la categoría en la que aparecen y crea una especie de diccionario de diccionarios."
   ]
  },
  {
   "cell_type": "code",
   "execution_count": 18,
   "metadata": {
    "collapsed": true
   },
   "outputs": [],
   "source": [
    "from nltk import ConditionalFreqDist\n",
    "modals = 'can could would should must may might'.split()\n",
    "modals_cfd = ConditionalFreqDist(\n",
    "                          (category, word) \n",
    "                          for category in brown.categories() \n",
    "                          for word in brown.words(categories=category)\n",
    "                        )\n",
    "\n",
    "# la sintaxis anterior contiene varios bucles anidados y es equivalente a:\n",
    "# for category in brown.categories():\n",
    "#     for word in brown.words(categories=category):\n",
    "#         ConditionalFreqDist(category, word)"
   ]
  },
  {
   "cell_type": "markdown",
   "metadata": {},
   "source": [
    "Una vez tenemos calculada la frecuencia de distribución condicional, podemos pintar los valores fácilmente en forma de tabla a través del método `.tabulate`, especificando como condiciones cada una de las categorías, y como muestras los verbos modales del inglés que hemos definido."
   ]
  },
  {
   "cell_type": "code",
   "execution_count": 19,
   "metadata": {
    "collapsed": false
   },
   "outputs": [
    {
     "name": "stdout",
     "output_type": "stream",
     "text": [
      "                   can  could  would should   must    may  might \n",
      "      adventure     46    151    191     15     27      5     58 \n",
      " belles_lettres    246    213    392    102    170    207    113 \n",
      "      editorial    121     56    180     88     53     74     39 \n",
      "        fiction     37    166    287     35     55      8     44 \n",
      "     government    117     38    120    112    102    153     13 \n",
      "        hobbies    268     58     78     73     83    131     22 \n",
      "          humor     16     30     56      7      9      8      8 \n",
      "        learned    365    159    319    171    202    324    128 \n",
      "           lore    170    141    186     76     96    165     49 \n",
      "        mystery     42    141    186     29     30     13     57 \n",
      "           news     93     86    244     59     50     66     38 \n",
      "       religion     82     59     68     45     54     78     12 \n",
      "        reviews     45     40     47     18     19     45     26 \n",
      "        romance     74    193    244     32     45     11     51 \n",
      "science_fiction     16     49     79      3      8      4     12 \n",
      "\n",
      " --------------------------------------------------------------------------- \n",
      "\n",
      "           can should  would \n",
      "fiction     37     35    287 \n"
     ]
    }
   ],
   "source": [
    "modals_cfd.tabulate(conditions=brown.categories(), samples=modals)\n",
    "\n",
    "print('\\n', '-' * 75, '\\n')\n",
    "\n",
    "# imprimo solo algunos verbos modales para la categoría fiction\n",
    "modals_cfd.tabulate(conditions=['fiction'], samples=['can', 'should', 'would'])"
   ]
  },
  {
   "cell_type": "markdown",
   "metadata": {},
   "source": [
    "Las cifras que hemos mostrado en las tablas anteriores se refieren a las frecuencias absolutas de cada verbo modal en cada categoría. Realizar comparaciones así no es acertado, porque es posible que cada categoría tenga un número de documentos (y de palabras) diferente. \n",
    "\n",
    "Vamos a comprobar si esto es cierto. ¿Está equilibrada la colección o tenemos algunos géneros sobrerrepresentados?"
   ]
  },
  {
   "cell_type": "code",
   "execution_count": 20,
   "metadata": {
    "collapsed": false
   },
   "outputs": [
    {
     "name": "stdout",
     "output_type": "stream",
     "text": [
      "adventure 69342\n",
      "belles_lettres 173096\n",
      "editorial 61604\n",
      "fiction 68488\n",
      "government 70117\n",
      "hobbies 82345\n",
      "humor 21695\n",
      "learned 181888\n",
      "lore 110299\n",
      "mystery 57169\n",
      "news 100554\n",
      "religion 39399\n",
      "reviews 40704\n",
      "romance 70022\n",
      "science_fiction 14470\n"
     ]
    }
   ],
   "source": [
    "for categoria in brown.categories():\n",
    "    print(categoria, len(brown.words(categories=categoria)))"
   ]
  },
  {
   "cell_type": "markdown",
   "metadata": {},
   "source": [
    "Como vemos, el número de palabras no está equilibado. Tenemos muchos más datos en las categorías `belles_lettres` y `learned` que en `science_fiction` o `humor`, por ejemplo.\n",
    "\n",
    "Calculemos a continuación la frecuencia relativa de estos verbos modales, atendiendo al género. Para ello, necesitamos dividir la frecuencia absoluta de cada modal entre el número de palabras total de cada categoría."
   ]
  },
  {
   "cell_type": "code",
   "execution_count": 21,
   "metadata": {
    "collapsed": false
   },
   "outputs": [
    {
     "name": "stdout",
     "output_type": "stream",
     "text": [
      "\n",
      " adventure\n",
      "\n",
      " --------------------------------------------------------------------------- \n",
      "\n",
      "can -> 0.000663378616135\n",
      "could -> 0.00217761241383\n",
      "would -> 0.00275446338438\n",
      "should -> 0.000216319113957\n",
      "must -> 0.000389374405122\n",
      "may -> 7.2106371319e-05\n",
      "might -> 0.0008364339073\n",
      "\n",
      " belles_lettres\n",
      "\n",
      " --------------------------------------------------------------------------- \n",
      "\n",
      "can -> 0.00142117668808\n",
      "could -> 0.0012305310348\n",
      "would -> 0.00226463927532\n",
      "should -> 0.000589268382863\n",
      "must -> 0.000982113971438\n",
      "may -> 0.00119586818875\n",
      "might -> 0.000652816933956\n",
      "\n",
      " editorial\n",
      "\n",
      " --------------------------------------------------------------------------- \n",
      "\n",
      "can -> 0.00196415817155\n",
      "could -> 0.000909031881047\n",
      "would -> 0.00292188818908\n",
      "should -> 0.00142847867022\n",
      "must -> 0.000860333744562\n",
      "may -> 0.00120122069995\n",
      "might -> 0.0006330757743\n",
      "\n",
      " fiction\n",
      "\n",
      " --------------------------------------------------------------------------- \n",
      "\n",
      "can -> 0.000540240626095\n",
      "could -> 0.00242378226843\n",
      "would -> 0.00419051512674\n",
      "should -> 0.00051103843009\n",
      "must -> 0.000803060390141\n",
      "may -> 0.000116808784021\n",
      "might -> 0.000642448312113\n",
      "\n",
      " government\n",
      "\n",
      " --------------------------------------------------------------------------- \n",
      "\n",
      "can -> 0.00166863955959\n",
      "could -> 0.000541951309953\n",
      "would -> 0.00171142518933\n",
      "should -> 0.0015973301767\n",
      "must -> 0.00145471141093\n",
      "may -> 0.00218206711639\n",
      "might -> 0.00018540439551\n",
      "\n",
      " hobbies\n",
      "\n",
      " --------------------------------------------------------------------------- \n",
      "\n",
      "can -> 0.00325459955067\n",
      "could -> 0.0007043536341\n",
      "would -> 0.000947234197583\n",
      "should -> 0.000886514056713\n",
      "must -> 0.00100795433845\n",
      "may -> 0.00159086769081\n",
      "might -> 0.000267168619831\n",
      "\n",
      " humor\n",
      "\n",
      " --------------------------------------------------------------------------- \n",
      "\n",
      "can -> 0.000737497119152\n",
      "could -> 0.00138280709841\n",
      "would -> 0.00258123991703\n",
      "should -> 0.000322654989629\n",
      "must -> 0.000414842129523\n",
      "may -> 0.000368748559576\n",
      "might -> 0.000368748559576\n",
      "\n",
      " learned\n",
      "\n",
      " --------------------------------------------------------------------------- \n",
      "\n",
      "can -> 0.0020067294159\n",
      "could -> 0.000874164320901\n",
      "would -> 0.00175382653061\n",
      "should -> 0.000940138986629\n",
      "must -> 0.00111057353976\n",
      "may -> 0.00178131597467\n",
      "might -> 0.000703729767769\n",
      "\n",
      " lore\n",
      "\n",
      " --------------------------------------------------------------------------- \n",
      "\n",
      "can -> 0.00154126510666\n",
      "could -> 0.001278343412\n",
      "would -> 0.001686325352\n",
      "should -> 0.000689036165332\n",
      "must -> 0.000870361471999\n",
      "may -> 0.00149593378\n",
      "might -> 0.000444247001333\n",
      "\n",
      " mystery\n",
      "\n",
      " --------------------------------------------------------------------------- \n",
      "\n",
      "can -> 0.00073466389127\n",
      "could -> 0.00246637163498\n",
      "would -> 0.00325351151848\n",
      "should -> 0.000507267924924\n",
      "must -> 0.000524759922336\n",
      "may -> 0.000227395966345\n",
      "might -> 0.000997043852438\n",
      "\n",
      " news\n",
      "\n",
      " --------------------------------------------------------------------------- \n",
      "\n",
      "can -> 0.00092487618593\n",
      "could -> 0.000855261849355\n",
      "would -> 0.00242655687491\n",
      "should -> 0.000586749408278\n",
      "must -> 0.000497245261253\n",
      "may -> 0.000656363744854\n",
      "might -> 0.000377906398552\n",
      "\n",
      " religion\n",
      "\n",
      " --------------------------------------------------------------------------- \n",
      "\n",
      "can -> 0.00208127109825\n",
      "could -> 0.00149749993655\n",
      "would -> 0.00172593213026\n",
      "should -> 0.00114216096855\n",
      "must -> 0.00137059316226\n",
      "may -> 0.00197974567882\n",
      "might -> 0.000304576258281\n",
      "\n",
      " reviews\n",
      "\n",
      " --------------------------------------------------------------------------- \n",
      "\n",
      "can -> 0.00110554245283\n",
      "could -> 0.000982704402516\n",
      "would -> 0.00115467767296\n",
      "should -> 0.000442216981132\n",
      "must -> 0.000466784591195\n",
      "may -> 0.00110554245283\n",
      "might -> 0.000638757861635\n",
      "\n",
      " romance\n",
      "\n",
      " --------------------------------------------------------------------------- \n",
      "\n",
      "can -> 0.00105681071663\n",
      "could -> 0.00275627659878\n",
      "would -> 0.00348461911971\n",
      "should -> 0.000456999228814\n",
      "must -> 0.000642655165519\n",
      "may -> 0.000157093484905\n",
      "might -> 0.000728342520922\n",
      "\n",
      " science_fiction\n",
      "\n",
      " --------------------------------------------------------------------------- \n",
      "\n",
      "can -> 0.00110573600553\n",
      "could -> 0.00338631651693\n",
      "would -> 0.0054595715273\n",
      "should -> 0.000207325501037\n",
      "must -> 0.000552868002764\n",
      "may -> 0.000276434001382\n",
      "might -> 0.000829302004147\n"
     ]
    }
   ],
   "source": [
    "for categoria in brown.categories():\n",
    "    # ¿cuántas palabras tenemos en cada categoría?\n",
    "    longitud = len(brown.words(categories=categoria))\n",
    "    print('\\n', categoria)\n",
    "    print('\\n', '-' * 75, '\\n')\n",
    "    for palabra in modals:\n",
    "        print(palabra, '->', modals_cfd[categoria][palabra]/longitud)"
   ]
  },
  {
   "cell_type": "markdown",
   "metadata": {},
   "source": [
    "Vamos a repetir la operación de cálculo de frecuencias relativas reasignando estos valores en el propio objeto `modals_cfd`, con el objetivo de utilizar el método `tabulate` para poder impirmir la tabla con los valors relativos."
   ]
  },
  {
   "cell_type": "code",
   "execution_count": 22,
   "metadata": {
    "collapsed": false
   },
   "outputs": [],
   "source": [
    "# lo primero, realizo una copia de mi distribución de frecuencias \n",
    "import copy\n",
    "modals_cfd_rel = copy.deepcopy(modals_cfd)"
   ]
  },
  {
   "cell_type": "code",
   "execution_count": 23,
   "metadata": {
    "collapsed": false
   },
   "outputs": [],
   "source": [
    "# sustituyo los conteos de la tabla por sus frecuencias relativas (ojo, en tantos por 10.000)\n",
    "for categoria in brown.categories():\n",
    "    longitud = len(brown.words(categories=categoria))\n",
    "    for palabra in modals:\n",
    "        modals_cfd_rel[categoria][palabra] = (modals_cfd[categoria][palabra]/longitud)*10000"
   ]
  },
  {
   "cell_type": "code",
   "execution_count": 24,
   "metadata": {
    "collapsed": false
   },
   "outputs": [
    {
     "name": "stdout",
     "output_type": "stream",
     "text": [
      "                   can  could  would should   must    may  might \n",
      "      adventure      6     21     27      2      3      0      8 \n",
      " belles_lettres     14     12     22      5      9     11      6 \n",
      "      editorial     19      9     29     14      8     12      6 \n",
      "        fiction      5     24     41      5      8      1      6 \n",
      "     government     16      5     17     15     14     21      1 \n",
      "        hobbies     32      7      9      8     10     15      2 \n",
      "          humor      7     13     25      3      4      3      3 \n",
      "        learned     20      8     17      9     11     17      7 \n",
      "           lore     15     12     16      6      8     14      4 \n",
      "        mystery      7     24     32      5      5      2      9 \n",
      "           news      9      8     24      5      4      6      3 \n",
      "       religion     20     14     17     11     13     19      3 \n",
      "        reviews     11      9     11      4      4     11      6 \n",
      "        romance     10     27     34      4      6      1      7 \n",
      "science_fiction     11     33     54      2      5      2      8 \n"
     ]
    }
   ],
   "source": [
    "# imprimo la tabla        \n",
    "modals_cfd_rel.tabulate(conditions=brown.categories(), samples=modals)"
   ]
  },
  {
   "cell_type": "markdown",
   "metadata": {},
   "source": [
    "### Brown es también un corpus anotado con información morfológica\n",
    "\n",
    "El corpus de Brown no solo está categorizado, también está anotado con información morfológica. Para acceder a la versión anotada del corpus, podemos utilizar los métodos: `brown.tagged_words`, `brown.tagged_sents` y `brown.tagged_\n",
    "paras`"
   ]
  },
  {
   "cell_type": "code",
   "execution_count": 25,
   "metadata": {
    "collapsed": false
   },
   "outputs": [
    {
     "name": "stdout",
     "output_type": "stream",
     "text": [
      "[(u'Now', u'RB'), (u'that', u'CS'), (u'he', u'PPS'), (u'knew', u'VBD'), (u'himself', u'PPL'), (u'to', u'TO'), (u'be', u'BE'), (u'self', u'NN'), (u'he', u'PPS'), (u'was', u'BEDZ'), (u'free', u'JJ'), (u'to', u'TO'), (u'grok', u'VB'), (u'ever', u'QL'), (u'closer', u'RBR'), (u'to', u'IN'), (u'his', u'PP$'), (u'brothers', u'NNS'), (u',', u','), (u'merge', u'VB')]\n"
     ]
    }
   ],
   "source": [
    "scifi_tagged_words = brown.tagged_words(categories='science_fiction')\n",
    "print(scifi_tagged_words[:20])"
   ]
  },
  {
   "cell_type": "markdown",
   "metadata": {},
   "source": [
    "Fíjate que cuando accedemos a la versión etiquetada del corpus, no obtenemos una simple lista de palabras sino una lista de tuplas, donde el primer elemento es la palabra en cuestión u el segundo es la etiqueta que indica la categoría gramatical de la palabra.\n",
    "\n",
    "Este conjunto etiquetas se ha convertido en casi un estándar para el inglés y se utilizan habitualmente para anotar cualquier recurso lingüístico en esa lengua.\n",
    "\n",
    "Vamos a crear una nueva frecuencia de distribución condicional para calcular la frecuencia de aparición de las etiquetas, teniendo en cuenta la categoría."
   ]
  },
  {
   "cell_type": "code",
   "execution_count": 26,
   "metadata": {
    "collapsed": true
   },
   "outputs": [],
   "source": [
    "tags_cfd = ConditionalFreqDist(\n",
    "                                (category, item[1])\n",
    "                                for category in brown.categories()\n",
    "                                for item in brown.tagged_words(categories=category)\n",
    "                              )"
   ]
  },
  {
   "cell_type": "markdown",
   "metadata": {},
   "source": [
    "Y ahora vamos a imprimir la tabla de frecuencias para cada categoría y para algunas de las etiquetas morfológicas: sustantivos en singular `NN`, verbos en presente `VB`, verbos en pasado simple `VBD`, participios pasados `VBN`, adjetivos `JJ`, preposiciones `IN`, y artículos `AT`. \n",
    "\n",
    "Recuerda: estas cifras no son directamente comparables entre categorías ya que éstas no están equilibradas. Hay categorías con más textos que otras."
   ]
  },
  {
   "cell_type": "code",
   "execution_count": 27,
   "metadata": {
    "collapsed": false
   },
   "outputs": [
    {
     "name": "stdout",
     "output_type": "stream",
     "text": [
      "                   NN    VB   VBD   VBN    JJ    IN    AT \n",
      "      adventure  8051  2170  3702  1276  2687  5908  5531 \n",
      " belles_lettres 21800  4829  3501  4223 10414 19083 14898 \n",
      "      editorial  7675  2129   700  1491  3593  6204  5311 \n",
      "        fiction  7815  2173  3027  1497  2958  6012  5439 \n",
      "     government  9877  1833   405  2190  4173  8596  5716 \n",
      "        hobbies 12465  2966   617  2252  4883  8591  6946 \n",
      "          humor  2567   656   699   478  1078  1926  1655 \n",
      "        learned 29194  4342  1481  6044 12294 21757 16828 \n",
      "           lore 14707  3083  2272  2822  6475 12074  9936 \n",
      "        mystery  6461  2026  2645  1161  2109  4692  4321 \n",
      "           news 13162  2440  2524  2269  4392 10616  8893 \n",
      "       religion  4923  1275   511   931  2327  4266  3327 \n",
      "        reviews  5066   872   504   875  2742  4040  3447 \n",
      "        romance  7166  2404  3048  1359  3180  5616  4671 \n",
      "science_fiction  1541   495   531   318   723  1176  1040 \n"
     ]
    }
   ],
   "source": [
    "tags_cfd.tabulate(conditions=brown.categories(), \n",
    "                  samples='NN VB VBD VBN JJ IN AT'.split())"
   ]
  },
  {
   "cell_type": "markdown",
   "metadata": {},
   "source": [
    "Veamos otro ejemplo: creamos una lista de adjetivos (etiquetados como JJ) que aparezcan en la colección de textos sobre hobbies, e imprimirmos los 50 primeros que encontramos"
   ]
  },
  {
   "cell_type": "code",
   "execution_count": 28,
   "metadata": {
    "collapsed": false
   },
   "outputs": [
    {
     "name": "stdout",
     "output_type": "stream",
     "text": [
      "4883\n",
      "[u'old', u'childish', u'genuine', u'happy', u'unkind', u'happy', u'sunny', u'new', u'fast', u'fast', u'good', u'famous', u'prize-winning', u'tall', u'astounding', u'famous', u'fast', u'wonder-working', u'crazy', u'vigorous', u'solid', u'skinny', u'shapely', u'upper', u'muscular', u'symmetrical', u'real', u'now-famous', u'specific', u'famous', u'upper', u'collar-to-collar', u'wide', u'Reeves-type', u'upper', u'frontal', u'entire', u'chest-back-shoulder', u'alternate', u'alternate', u'complete', u'complete', u'five-minute', u'complete', u'similar', u'flat', u'downward', u'possible', u'upper', u'true']\n"
     ]
    }
   ],
   "source": [
    "# creo una lista vacía de adjetivos\n",
    "adjetivos = []\n",
    "\n",
    "# itero sobre las tuplas de la categorías hobbies\n",
    "for tupla in brown.tagged_words(categories='hobbies'):\n",
    "    # compruebo que son adjetivos\n",
    "    if tupla[1] == 'JJ':\n",
    "        # guardo la palabra en cuestión en mis lista de adjetivos\n",
    "        adjetivos.append(tupla[0])\n",
    "        \n",
    "# hay bastantes \n",
    "print(len(adjetivos))  \n",
    "# así que, solo imprimo solo los 50 primeros\n",
    "print(adjetivos[:50])    "
   ]
  },
  {
   "cell_type": "markdown",
   "metadata": {},
   "source": [
    "Otro ejempo: Para cada categoría del corpus de Brown, imprimimos solo aquellos adjetivos que tengan una longitud de al menos 15 caracteres y que no sean palabras compuestas escritas con guiones ortográficos."
   ]
  },
  {
   "cell_type": "code",
   "execution_count": 29,
   "metadata": {
    "collapsed": false
   },
   "outputs": [
    {
     "name": "stdout",
     "output_type": "stream",
     "text": [
      "[u'unreconstructed', u'cathodoluminescent', u'communicational', u'polycrystalline', u'phenomenological', u'unconstitutional', u'inconsequential', u'impressionistic', u'autobiographical', u'cathodophoretic', u'nondiscriminatory', u'incontrovertible', u'undifferentiated', u'noncommissioned', u'gastrointestinal', u'distinguishable', u'interdenominational', u'internationalist', u'expressionistic', u'bibliographical', u'neuropsychiatric', u'extraterrestrial', u'semiquantitative', u'spectrophotometric', u'psychopharmacological', u'micrometeoritic', u'indistinguishable', u'interdepartmental', u'intergovernmental', u'intercontinental', u'individualistic', u'glottochronological', u'photoelectronic', u'undistinguished', u'incomprehensible', u'macropathological', u'Thermogravimetric', u'disproportionate', u'crystallographic', u'particularistic', u'traditionalistic', u'underprivileged', u'lexicostatistic', u'straightforward', u'uncommunicative', u'substitutionary', u'pharmacological', u'substerilization', u'anthropomorphic', u'interchangeable', u'multidimensional', u'nonmythological', u'Crystallographic', u'intradepartmental', u'psychotherapeutic', u'chromatographic', u'intraepithelial', u'indiscriminating', u'parasympathetic', u'intercollegiate', u'Physicochemical', u'unsophisticated', u'encephalographic', u'nonagricultural', u'trichloroacetic', u'anthropological']\n"
     ]
    }
   ],
   "source": [
    "# en este caso, creo un diccionario vacío\n",
    "adjetivos = {}\n",
    "\n",
    "# itero sobre las categorías\n",
    "for categoria in brown.categories():\n",
    "    for elemento in brown.tagged_words():\n",
    "        if elemento[1] == 'JJ':\n",
    "            if len(elemento[0]) >= 15:\n",
    "                if \"-\" not in elemento[0]:\n",
    "                    # cuando encuentro una palabra que cumple las tres condiciones, la almacenos en mi diccionario de adjetivos\n",
    "                    adjetivos[elemento[0]] = 1\n",
    "\n",
    "# por último, imprimo las claves de mi diccionario\n",
    "print(adjetivos.keys())"
   ]
  },
  {
   "cell_type": "markdown",
   "metadata": {},
   "source": [
    "## Recursos Léxicos: WordNet\n",
    "\n",
    "[Wordnet](https://wordnet.princeton.edu) es una red semántica para el inglés. En esencia, es similar a un diccionario pero está organizado por *synsets* (conjunto de palabras sinónimas) y no por lemas. \n",
    "\n",
    "Podemos acceder a WordNet a través de NLTK, de manera similar a como accedemos desde el [interfaz web](http://wordnetweb.princeton.edu/perl/webwn):\n",
    " "
   ]
  },
  {
   "cell_type": "code",
   "execution_count": 30,
   "metadata": {
    "collapsed": true
   },
   "outputs": [],
   "source": [
    "from nltk.corpus import wordnet as wn"
   ]
  },
  {
   "cell_type": "markdown",
   "metadata": {},
   "source": [
    "Para consultar los synsets en los que aparece una determinada palabra, podemos utilizar el método `.synsets` como se muestra en el ejemplo. Como resultado obtenemos una lista con todos los synsets en los que aparece la palabra."
   ]
  },
  {
   "cell_type": "code",
   "execution_count": 31,
   "metadata": {
    "collapsed": false
   },
   "outputs": [
    {
     "name": "stdout",
     "output_type": "stream",
     "text": [
      "[Synset('sword.n.01')]\n",
      "[Synset('car.n.01'), Synset('car.n.02'), Synset('car.n.03'), Synset('car.n.04'), Synset('cable_car.n.01')]\n"
     ]
    }
   ],
   "source": [
    "# buscamos los synsets en los que aparece la palabra sword\n",
    "print(wn.synsets('sword'))\n",
    "\n",
    "# y buscamos car\n",
    "print(wn.synsets('car'))"
   ]
  },
  {
   "cell_type": "markdown",
   "metadata": {},
   "source": [
    "En este caso, la palabra *sword* solo aparece en un synset, lo que implica que solo tiene un sentido. Además, sabemos que es un sustantivo, porque el nombre de synset está etiquetado como `n`.\n",
    "\n",
    "Por su parte, la palabra *car* es polisémica y aparece en cinco sentidos, toso ellos sustantivos.\n",
    "\n",
    "Si guardo el synset en cuestión en una variable (fíjate que me quedo con el primer elemento de la lista que me devuelve el método `wn.synsets`), podemos acceder a distintos métodos:"
   ]
  },
  {
   "cell_type": "code",
   "execution_count": 32,
   "metadata": {
    "collapsed": false
   },
   "outputs": [
    {
     "name": "stdout",
     "output_type": "stream",
     "text": [
      "[u'sword', u'blade', u'brand', u'steel']\n",
      "a cutting or thrusting weapon that has a long metal blade and a hilt with a hand guard\n",
      "[u'cable_car', u'car'] a conveyance for passengers or freight on a cable railway\n",
      "[u'cable_car', u'car'] a conveyance for passengers or freight on a cable railway\n",
      "[u'they took a cable car to the top of the mountain']\n"
     ]
    }
   ],
   "source": [
    "sword = wn.synsets('sword')[0]\n",
    "print(sword.lemma_names()) # imprime los lemas del synset => sinónimos\n",
    "print(sword.definition()) # imprime la definición del synset\n",
    "\n",
    "# hacemos lo mismo con car\n",
    "car = wn.synsets('car')\n",
    "cable_car = car[-1]\n",
    "print(cable_car.lemma_names(), cable_car.definition())\n",
    "print(car[-1].lemma_names(), car[-1].definition()) # esta línea es equivalente a la anterior. ¿Ves por qué?\n",
    "\n",
    "# imprimo las oraciones de ejemplo\n",
    "print(cable_car.examples())"
   ]
  },
  {
   "cell_type": "markdown",
   "metadata": {},
   "source": [
    "Si escribes `sword.` y pulsas el tabulador podrás visualizar todos los métodos accesibles desde un objeto synset. Son muchos: si tienes interés en alguno que no se menciona en este resumen, pregúntame o consulta el libro de NLTK.\n",
    "\n",
    "Entre las cosas que sí nos interesan está el poder acceder a relaciones como hiponimia, meronimia, etc. Por ejemplo, para acceder a todos los hipónimos de *sword* con el sentido de *espada*, es decir, a todos los **tipos de** *espada* y a sus definiciones."
   ]
  },
  {
   "cell_type": "code",
   "execution_count": 33,
   "metadata": {
    "collapsed": false
   },
   "outputs": [
    {
     "name": "stdout",
     "output_type": "stream",
     "text": [
      "[Synset('backsword.n.02'), Synset('broadsword.n.01'), Synset('cavalry_sword.n.01'), Synset('cutlas.n.01'), Synset('falchion.n.01'), Synset('fencing_sword.n.01'), Synset('rapier.n.01')]\n",
      "[u'backsword']\n",
      "a sword with only one cutting edge\n",
      "[u'broadsword']\n",
      "a sword with a broad blade and (usually) two cutting edges; used to cut rather than stab\n",
      "[u'cavalry_sword', u'saber', u'sabre']\n",
      "a stout sword with a curved blade and thick back\n",
      "[u'cutlas', u'cutlass']\n",
      "a short heavy curved sword with one edge; formerly used by sailors\n",
      "[u'falchion']\n",
      "a short broad slightly convex medieval sword with a sharp point\n",
      "[u'fencing_sword']\n",
      "a sword used in the sport of fencing\n",
      "[u'rapier', u'tuck']\n",
      "a straight sword with a narrow blade and two edges\n"
     ]
    }
   ],
   "source": [
    "print(sword.hyponyms())\n",
    "\n",
    "for element in sword.hyponyms():\n",
    "    print(element.lemma_names())\n",
    "    print(element.definition())"
   ]
  },
  {
   "cell_type": "markdown",
   "metadata": {},
   "source": [
    "En lugar de bajar hasta los elementos más específicos, podemos navegar en la jerarquía de sentidos hasta los synsets más generales. Por ejemplo, podemos acceder a los hiperónimos inmediatos de un synset a través del método `.hypernyms()`:"
   ]
  },
  {
   "cell_type": "code",
   "execution_count": 34,
   "metadata": {
    "collapsed": false
   },
   "outputs": [
    {
     "name": "stdout",
     "output_type": "stream",
     "text": [
      "[u'weapon', u'arm', u'weapon_system']\n",
      "any instrument or instrumentality used in fighting or hunting\n"
     ]
    }
   ],
   "source": [
    "for element in sword.hypernyms():\n",
    "    print(element.lemma_names())\n",
    "    print(element.definition())"
   ]
  },
  {
   "cell_type": "markdown",
   "metadata": {},
   "source": [
    "Fíjate que con este método sólo subimos un nivel hacia el synset más general. En este caso, comprobamos que *sword* es un tipo de *weapon* o *arm*. Si, por el contrario, lo que nos interesa es acceder a todos los hiperónimos de *sword*, navegando hasta el elemento raíz de la jerarquía de WordNet (que siempre es *entity*), podemos utilizar el método `.hypernym_paths()`:"
   ]
  },
  {
   "cell_type": "code",
   "execution_count": 35,
   "metadata": {
    "collapsed": false
   },
   "outputs": [
    {
     "name": "stdout",
     "output_type": "stream",
     "text": [
      "[u'entity']\n",
      "that which is perceived or known or inferred to have its own distinct existence (living or nonliving)\n",
      "[u'physical_entity']\n",
      "an entity that has physical existence\n",
      "[u'object', u'physical_object']\n",
      "a tangible and visible entity; an entity that can cast a shadow\n",
      "[u'whole', u'unit']\n",
      "an assemblage of parts that is regarded as a single entity\n",
      "[u'artifact', u'artefact']\n",
      "a man-made object taken as a whole\n",
      "[u'instrumentality', u'instrumentation']\n",
      "an artifact (or system of artifacts) that is instrumental in accomplishing some end\n",
      "[u'device']\n",
      "an instrumentality invented for a particular purpose\n",
      "[u'instrument']\n",
      "a device that requires skill for proper use\n",
      "[u'weapon', u'arm', u'weapon_system']\n",
      "any instrument or instrumentality used in fighting or hunting\n",
      "[u'sword', u'blade', u'brand', u'steel']\n",
      "a cutting or thrusting weapon that has a long metal blade and a hilt with a hand guard\n"
     ]
    }
   ],
   "source": [
    "for path in sword.hypernym_paths():\n",
    "    for element in path:\n",
    "        print(element.lemma_names())\n",
    "        print(element.definition())"
   ]
  },
  {
   "cell_type": "markdown",
   "metadata": {},
   "source": [
    "Fíjate que `.hypernym_paths()` me devuelve una lista de caminos posibles desde el synset en cuestión hasta el elemento *entity*. Por eso itero sobre los elementos `path` que me devuelve `.hypernym_paths()`. En el ejemplo de *sword*, da la casualidad de que solo hay un camino posible. Cada `path` es una lista de synsets, e itero sobre ellos. Por eso utilizo un bucle dentro de otro.\n",
    "\n",
    "Para acceder a los merónimos, es decir, a las partes o elementos constitutivos de *sword*, podemos utilizar el método `.part_meronyms()`, como se muestra a continuación."
   ]
  },
  {
   "cell_type": "code",
   "execution_count": 36,
   "metadata": {
    "collapsed": false
   },
   "outputs": [
    {
     "name": "stdout",
     "output_type": "stream",
     "text": [
      "[u'blade']\n",
      "the flat part of a tool or weapon that (usually) has a cutting edge\n",
      "[u'foible']\n",
      "the weaker part of a sword's blade from the forte to the tip\n",
      "[u'forte']\n",
      "the stronger part of a sword blade between the hilt and the foible\n",
      "[u'haft', u'helve']\n",
      "the handle of a weapon or tool\n",
      "[u'hilt']\n",
      "the handle of a sword or dagger\n",
      "[u'point', u'tip', u'peak']\n",
      "a V shape\n"
     ]
    }
   ],
   "source": [
    "for element in sword.part_meronyms():\n",
    "    print(element.lemma_names())\n",
    "    print(element.definition())"
   ]
  },
  {
   "cell_type": "markdown",
   "metadata": {},
   "source": [
    "De manera similar, podemos acceder a los holónimos de un synset, es decir, a los elementos de los que *espada* forma parte, a través del método `.part_holonyms()`. El synset que estamos utilizando no tiene definidos holónimos, así que el ejemplo devuelve una lista vacía."
   ]
  },
  {
   "cell_type": "code",
   "execution_count": 37,
   "metadata": {
    "collapsed": false
   },
   "outputs": [
    {
     "name": "stdout",
     "output_type": "stream",
     "text": [
      "[]\n"
     ]
    }
   ],
   "source": [
    "print(sword.part_holonyms())"
   ]
  },
  {
   "cell_type": "markdown",
   "metadata": {},
   "source": [
    "Busquemos ahora algún ejemplo que tenga otros tipos de merónimos."
   ]
  },
  {
   "cell_type": "code",
   "execution_count": 38,
   "metadata": {
    "collapsed": false
   },
   "outputs": [
    {
     "name": "stdout",
     "output_type": "stream",
     "text": [
      "[u'water', u'H2O']\n",
      "[u'body_of_water', u'water']\n",
      "[u'water']\n",
      "[u'water_system', u'water_supply', u'water']\n",
      "[u'urine', u'piss', u'pee', u'piddle', u'weewee', u'water']\n",
      "[u'water']\n",
      "[u'water', u'irrigate']\n",
      "[u'water']\n",
      "[u'water']\n",
      "[u'water']\n",
      "[Synset('hydrogen.n.01'), Synset('oxygen.n.01')]\n",
      "[u'air'] a mixture of gases (especially oxygen) required for breathing; the stuff that the wind consists of\n",
      "[u'air'] the region above the ground\n",
      "[u'air', u'aura', u'atmosphere'] a distinctive but intangible quality surrounding a person or thing\n",
      "[u'breeze', u'zephyr', u'gentle_wind', u'air'] a slight wind (usually refreshing)\n",
      "[u'atmosphere', u'air'] the mass of air surrounding the Earth\n",
      "[u'air'] once thought to be one of four elements composing the universe (Empedocles)\n",
      "[u'tune', u'melody', u'air', u'strain', u'melodic_line', u'line', u'melodic_phrase'] a succession of notes forming a distinctive sequence\n",
      "[u'air', u'airwave'] medium for radio and television broadcasting\n",
      "[u'air_travel', u'aviation', u'air'] travel via aircraft\n",
      "[u'air_out', u'air', u'aerate'] expose to fresh air\n",
      "[u'air'] be broadcast\n",
      "[u'air', u'send', u'broadcast', u'beam', u'transmit'] broadcast over the airwaves, as in radio or television\n",
      "[u'publicize', u'publicise', u'air', u'bare'] make public\n",
      "[u'air'] expose to warm or heated air, so as to dry\n",
      "[u'vent', u'ventilate', u'air_out', u'air'] expose to cool or cold air so as to cool or freshen\n",
      "[Synset('argon.n.01'), Synset('krypton.n.01'), Synset('neon.n.01'), Synset('nitrogen.n.01'), Synset('oxygen.n.01'), Synset('xenon.n.01')]\n"
     ]
    }
   ],
   "source": [
    "# en cuántos synsets aparece la palabra water?\n",
    "water = wn.synsets('water')\n",
    "for synset in water:\n",
    "    print(synset.lemma_names())\n",
    "\n",
    "# me quedo con el primero\n",
    "agua = water[0]\n",
    "# que tiene unos cuantos merónimos de sustancia\n",
    "print(agua.substance_meronyms())\n",
    "\n",
    "# ídem para air\n",
    "air = wn.synsets('air')\n",
    "for synset in air:\n",
    "    print(synset.lemma_names(), synset.definition())\n",
    "\n",
    "aire = air[0]\n",
    "print(aire.substance_meronyms())"
   ]
  },
  {
   "cell_type": "markdown",
   "metadata": {},
   "source": [
    "Hay varios métodos para acceder a distintos tipos de merónimos y holónimos, aunque no siempre están definidas estas relaciones. Cuando no están definidas, los métodos no dan error, simplemente devuelven listas vacías.\n",
    "\n",
    "Los nombres de estos métodos tratan de ser autoexplicativos: por un lado, tenemos `.part_holonyms()`, `.member_holonyms()`, `.substance_holonyms()`, y por otro, `.part_meronyms()`, `.member_meronyms()`, `.substance_meronyms()`."
   ]
  },
  {
   "cell_type": "markdown",
   "metadata": {},
   "source": [
    "### Pequeño ejercicio\n",
    "\n",
    "- Busca los sentidos en los que aparece la palabra *bike*.\n",
    "- Identifica el que hace referencia a *bicicleta*: vehículo de dos ruedas a pedales\n",
    "- Imprime los merónimos, las partes que conforman una bicicleta\n"
   ]
  },
  {
   "cell_type": "code",
   "execution_count": null,
   "metadata": {
    "collapsed": false
   },
   "outputs": [],
   "source": []
  }
 ],
 "metadata": {
  "kernelspec": {
   "display_name": "Python 2",
   "language": "python",
   "name": "python2"
  },
  "language_info": {
   "codemirror_mode": {
    "name": "ipython",
    "version": 2
   },
   "file_extension": ".py",
   "mimetype": "text/x-python",
   "name": "python",
   "nbconvert_exporter": "python",
   "pygments_lexer": "ipython2",
   "version": "2.7.10"
  }
 },
 "nbformat": 4,
 "nbformat_minor": 0
}
