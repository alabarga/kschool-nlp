{
 "cells": [
  {
   "cell_type": "markdown",
   "metadata": {},
   "source": [
    "# PoS tagging en Español\n",
    "\n",
    "En este primer ejercicio vamos a jugar con uno de los corpus en español que está disponible desde NLTK: CESS_ESP, un *treebank* anotado a partir de una colección de noticias en español. \n",
    "\n",
    "Este corpus está actualmente incluído en un recurso más amplio, el corpus [AnCora](http://clic.ub.edu/corpus/es) que desarrollan en la Universitat de Barcelona. Para más información, podéis leer el artículo de M. Taulé, M. A. Martí y M. Recasens \"[AnCora: Multilevel Annotated Corpora for Catalan and Spanish](http://www.lrec-conf.org/proceedings/lrec2008/pdf/35_paper.pdf)\". *Proceedings of 6th International Conference on Language Resources and Evaluation (LREC 2008)*. 2008. Marrakesh (Morocco).\n",
    "\n",
    "Antes de nada, ejecuta la siguiente celda para acceder al corpus y a otras herramientas que vamos a usar en este ejercicio."
   ]
  },
  {
   "cell_type": "code",
   "execution_count": 1,
   "metadata": {
    "collapsed": false
   },
   "outputs": [
    {
     "name": "stdout",
     "output_type": "stream",
     "text": [
      "[(u'El', u'da0ms0'), (u'grupo', u'ncms000'), (u'estatal', u'aq0cs0'), (u'Electricit\\xe9_de_France', u'np00000'), (u'-Fpa-', u'Fpa'), (u'EDF', u'np00000'), (u'-Fpt-', u'Fpt'), (u'anunci\\xf3', u'vmis3s0'), (u'hoy', u'rg'), (u',', u'Fc'), (u'jueves', u'W'), (u',', u'Fc'), (u'la', u'da0fs0'), (u'compra', u'ncfs000'), (u'del', u'spcms'), (u'51_por_ciento', u'Zp'), (u'de', u'sps00'), (u'la', u'da0fs0'), (u'empresa', u'ncfs000'), (u'mexicana', u'aq0fs0'), (u'Electricidad_\\xc1guila_de_Altamira', u'np00000'), (u'-Fpa-', u'Fpa'), (u'EAA', u'np00000'), (u'-Fpt-', u'Fpt'), (u',', u'Fc'), (u'creada', u'aq0fsp'), (u'por', u'sps00'), (u'el', u'da0ms0'), (u'japon\\xe9s', u'aq0ms0'), (u'Mitsubishi_Corporation', u'np00000'), (u'para', u'sps00'), (u'poner_en_marcha', u'vmn0000'), (u'una', u'di0fs0'), (u'central', u'ncfs000'), (u'de', u'sps00'), (u'gas', u'ncms000'), (u'de', u'sps00'), (u'495', u'Z'), (u'megavatios', u'ncmp000'), (u'.', u'Fp')]\n"
     ]
    }
   ],
   "source": [
    "import nltk\n",
    "from nltk.corpus import cess_esp\n",
    "\n",
    "cess_esp = cess_esp.tagged_sents()\n",
    "\n",
    "print(cess_esp[0])"
   ]
  },
  {
   "cell_type": "markdown",
   "metadata": {},
   "source": [
    "Fíjate que las etiquetas que se usan en el treebank español son diferentes a las etiquetas que habíamos visto en inglés. Para empezar, el español es una lengua con una morfología más rica: si queremos reflejar el género y el número de los adjetivos, por ejemplo, no nos vale con etiquetar los adjetivos con una simple `JJ`.\n",
    "\n",
    "\n",
    "Echa un vistazo a las etiquetas morfológicas y trata de interpretar su significado. En estas primeras 50 palabras encontramos:\n",
    "\n",
    "- `da0ms0`: determinante artículo masculino singular\n",
    "- `ncms000`: nombre común masculino singular\n",
    "- `aq0cs0`: adjetivo calificativo de género común singular\n",
    "- `np00000`: nombre propio \n",
    "- `sps00`: preposición\n",
    "- `vmis3s0`: verbo principal indicativo pasado 3ª persona del singular\n",
    "\n",
    "\n",
    "Aquí tienes el [la explicación de las etiquetas](https://talp-upc.gitbooks.io/freeling-user-manual/content/tagsets.html) y [el catálogo completo de rasgos para el etiquetado en español](https://talp-upc.gitbooks.io/freeling-user-manual/content/tagsets/tagset-es.html) usadas en este corpus. A partir de lo que aprendas en el enlace anterior:\n",
    "\n",
    "- Imprime por pantalla solo las palabras etiquetadas como **formas verbales en 3ª persona del plural del pretérito perfecto simple de indicativo**.\n",
    "- Calcula qué porcentaje del total representan las palabras del corpus CEES_ESP etiquetadas como formas verbales en 3ª persona del plural del pretérito perfecto simple de indicativo."
   ]
  },
  {
   "cell_type": "code",
   "execution_count": 2,
   "metadata": {
    "collapsed": false
   },
   "outputs": [
    {
     "name": "stdout",
     "output_type": "stream",
     "text": [
      "('Tengo', 629, 'verbos')\n",
      "[u'participaron', u'quedaron', u'triplicaron', u'obtuvieron', u'lograron', u'rechazaron', u'declararon', u'echaron', u'atribuyeron', u'cerraron', u'registraron', u'detectaron', u'mostraron', u'examinaron', u'dijeron', u'aprobaron', u'destacaron', u'rechazaron', u'deploraron', u'aprobaron', u'comprometieron', u'subrayaron', u'comprometieron', u'libraron', u'advirtieron']\n"
     ]
    }
   ],
   "source": [
    "# escribe tu código aquí\n",
    "\n",
    "from nltk.corpus import cess_esp\n",
    "oraciones = cess_esp.tagged_sents()\n",
    "verbos_pasado = []\n",
    "\n",
    "for oracion in oraciones:\n",
    "    for tupla in oracion:\n",
    "        if tupla[1] == 'vmis3p0':\n",
    "            verbos_pasado.append(tupla[0])\n",
    "        \n",
    "\n",
    "print(\"Tengo\", len(verbos_pasado), \"verbos\")\n",
    "print(verbos_pasado)[:25]"
   ]
  },
  {
   "cell_type": "markdown",
   "metadata": {},
   "source": [
    "Las etiquetas morfológicas que hemos visto son bastante complejas, ya que incorporan los rasgos de la flexión del español. Afortunadamente, NLTK permite cargar los corpus etiquetados con un [conjunto de etiquetas universal y simplificado](http://universaldependencies.org/u/pos/) (todos los detalles en el [paper](http://arxiv.org/abs/1104.2086)) utilizando la opcion `tagset='universal'`. Para ello, asegúrate de que has almacenado dentro de tu directorio de recursos de `nltk` el mapeo de etiquetas originales del corpus con su versión simplificada. Este fichero se llama `universal_tagset-ES.map` y lo tienes en la carpeta `data` del respositorio. Es recomendable renombrarlo, por ejemplo:"
   ]
  },
  {
   "cell_type": "code",
   "execution_count": null,
   "metadata": {
    "collapsed": true
   },
   "outputs": [],
   "source": [
    "!cp ../data/universal_tagset-ES.map ~/nltk_data/taggers/universal_tagset/es-ancora.map"
   ]
  },
  {
   "cell_type": "markdown",
   "metadata": {},
   "source": [
    "Después, ejecuta la siguiente celda y fíjate cómo hemos cargado una lista de oraciones etiquetadas con esta nueva versión de las etiquetas."
   ]
  },
  {
   "cell_type": "code",
   "execution_count": 3,
   "metadata": {
    "collapsed": false,
    "scrolled": true
   },
   "outputs": [
    {
     "name": "stdout",
     "output_type": "stream",
     "text": [
      "[(u'El', u'DET'), (u'grupo', u'NOUN'), (u'estatal', u'ADJ'), (u'Electricit\\xe9_de_France', u'NOUN'), (u'-Fpa-', u'.'), (u'EDF', u'NOUN'), (u'-Fpt-', u'.'), (u'anunci\\xf3', u'VERB'), (u'hoy', u'ADV'), (u',', u'.'), (u'jueves', u'X'), (u',', u'.'), (u'la', u'DET'), (u'compra', u'NOUN'), (u'del', u'ADP'), (u'51_por_ciento', u'NUM'), (u'de', u'ADP'), (u'la', u'DET'), (u'empresa', u'NOUN'), (u'mexicana', u'ADJ'), (u'Electricidad_\\xc1guila_de_Altamira', u'NOUN'), (u'-Fpa-', u'.'), (u'EAA', u'NOUN'), (u'-Fpt-', u'.'), (u',', u'.'), (u'creada', u'ADJ'), (u'por', u'ADP'), (u'el', u'DET'), (u'japon\\xe9s', u'ADJ'), (u'Mitsubishi_Corporation', u'NOUN'), (u'para', u'ADP'), (u'poner_en_marcha', u'VERB'), (u'una', u'DET'), (u'central', u'NOUN'), (u'de', u'ADP'), (u'gas', u'NOUN'), (u'de', u'ADP'), (u'495', u'X'), (u'megavatios', u'NOUN'), (u'.', u'.')]\n"
     ]
    }
   ],
   "source": [
    "from nltk.corpus import cess_esp\n",
    "\n",
    "cess_esp._tagset = 'es-ancora'\n",
    "oraciones = cess_esp.tagged_sents(tagset='universal')\n",
    "print(oraciones[0])"
   ]
  },
  {
   "cell_type": "markdown",
   "metadata": {},
   "source": [
    "Estas etiquetas son más sencillas, ¿verdad? Básicamente tenemos `DET` para determinante, `NOUN` para nombre, `VERB` para verbo, `ADJ` para adjetivo, `ADP` para preposición, etc.\n",
    "\n",
    "\n",
    "Vamos a utilizar este corpus para entrenar varios etiquetadores basados en ngramas, tal y como hicimos en clase y se explica en la presentación `nltk-pos`. \n",
    "\n",
    "Construye de manera incremental cuatro etiquetadores.\n",
    "\n",
    "1. un etiquetador que por defecto que asuma que una palabra desconocida es un nombre común en masculino singular y asigne la etiqueta correspondiente a todas las palabras.\n",
    "2. un etiquetador basado en unigramas que aprenda a partir de la lista `oraciones` y utilice en etiquetador anterior como respaldo.\n",
    "3. un etiquetador basado en bigramas que aprenda a partir de la lista `oraciones` y utilice en etiquetador anterior como respaldo.\n",
    "4. un etiquetador basado en trigramas que aprenda a partir de la lista `oraciones` y utilice en etiquetador anterior como respaldo."
   ]
  },
  {
   "cell_type": "code",
   "execution_count": 4,
   "metadata": {
    "collapsed": false
   },
   "outputs": [
    {
     "name": "stdout",
     "output_type": "stream",
     "text": [
      "0.893317115054\n"
     ]
    }
   ],
   "source": [
    "# divido el corpus en dos partes\n",
    "size = int(len(oraciones) * 0.9) # asegúrate de que conviertes esto a entero \n",
    "corpusEntrenamiento = oraciones[:size]\n",
    "corpusTest = oraciones[size:]\n",
    "\n",
    "defaultTagger = nltk.DefaultTagger('NOUN')\n",
    "unigramTagger = nltk.UnigramTagger(corpusEntrenamiento, backoff=defaultTagger)\n",
    "bigramTagger = nltk.BigramTagger(corpusEntrenamiento, backoff=unigramTagger)\n",
    "trigramTagger = nltk.TrigramTagger(corpusEntrenamiento, backoff=bigramTagger)\n",
    "print(trigramTagger.evaluate(corpusTest))"
   ]
  },
  {
   "cell_type": "code",
   "execution_count": 5,
   "metadata": {
    "collapsed": false
   },
   "outputs": [
    {
     "name": "stdout",
     "output_type": "stream",
     "text": [
      "[('Este', u'DET'), ('banco', 'NOUN'), ('est\\xc3\\xa1', 'NOUN'), ('ocupado', u'ADJ'), ('por', u'ADP'), ('un', u'DET'), ('padre', 'NOUN'), ('y', u'CONJ'), ('por', u'ADP'), ('un', u'DET'), ('hijo.', 'NOUN'), ('El', u'DET'), ('padre', 'NOUN'), ('se', u'PRON'), ('llama', u'VERB'), ('Juan', 'NOUN'), ('y', u'CONJ'), ('el', u'DET'), ('hijo', 'NOUN'), ('ya', u'ADV'), ('te', u'PRON'), ('lo', u'PRON'), ('he', u'VERB'), ('dicho', u'VERB')]\n",
      "[('El', u'DET'), ('presidente', 'NOUN'), ('del', u'ADP'), ('gobierno', 'NOUN'), ('por', u'ADP'), ('fin', 'NOUN'), ('ha', u'VERB'), ('dado', u'VERB'), ('la', u'DET'), ('cara', 'NOUN'), ('para', u'ADP'), ('anunciar', u'VERB'), ('aumentos', 'NOUN'), ('de', u'ADP'), ('presupuesto', 'NOUN'), ('en', u'ADP'), ('Educaci\\xc3\\xb3n', 'NOUN'), ('y', u'CONJ'), ('Sanidad', 'NOUN'), ('a', u'ADP'), ('costa', 'NOUN'), ('de', u'ADP'), ('dejar', u'VERB'), ('de', u'ADP'), ('subvencionar', 'NOUN'), ('las', u'DET'), ('empresas', 'NOUN'), ('de', u'ADP'), ('los', u'DET'), ('amigotes.', 'NOUN')]\n",
      "[('El', u'DET'), ('cacique', 'NOUN'), ('corrupto', u'ADJ'), ('y', u'CONJ'), ('la', u'DET'), ('tonadillera', 'NOUN'), ('se', u'PRON'), ('comer\\xc3\\xa1n', 'NOUN'), ('el', u'DET'), ('turr\\xc3\\xb3n', 'NOUN'), ('en', u'ADP'), ('prisi\\xc3\\xb3n.', 'NOUN')]\n"
     ]
    }
   ],
   "source": [
    "# prueba tu etiquetador basado en trigramas con las siguientes oraciones que, con toda seguridad, no aparecen en el corpus\n",
    "print(trigramTagger.tag(\"Este banco está ocupado por un padre y por un hijo. El padre se llama Juan y el hijo ya te lo he dicho\".split()))\n",
    "print(trigramTagger.tag(\"\"\"El presidente del gobierno por fin ha dado la cara para anunciar aumentos de presupuesto en Educación y Sanidad a costa de dejar de subvencionar las empresas de los amigotes.\"\"\".split()))\n",
    "print(trigramTagger.tag(\"El cacique corrupto y la tonadillera se comerán el turrón en prisión.\".split()))"
   ]
  }
 ],
 "metadata": {
  "kernelspec": {
   "display_name": "Python 2",
   "language": "python",
   "name": "python2"
  },
  "language_info": {
   "codemirror_mode": {
    "name": "ipython",
    "version": 2
   },
   "file_extension": ".py",
   "mimetype": "text/x-python",
   "name": "python",
   "nbconvert_exporter": "python",
   "pygments_lexer": "ipython2",
   "version": "2.7.10"
  }
 },
 "nbformat": 4,
 "nbformat_minor": 0
}
